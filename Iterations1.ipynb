{
  "nbformat": 4,
  "nbformat_minor": 0,
  "metadata": {
    "colab": {
      "provenance": []
    },
    "kernelspec": {
      "name": "python3",
      "display_name": "Python 3"
    },
    "language_info": {
      "name": "python"
    }
  },
  "cells": [
    {
      "cell_type": "code",
      "execution_count": null,
      "metadata": {
        "colab": {
          "base_uri": "https://localhost:8080/"
        },
        "id": "WmWMT5TCG28y",
        "outputId": "a950aae0-7168-4823-b1ef-50f1d4347d11"
      },
      "outputs": [
        {
          "output_type": "stream",
          "name": "stdout",
          "text": [
            "Hello World\n"
          ]
        }
      ],
      "source": [
        "print(\"Hello World\")"
      ]
    },
    {
      "cell_type": "code",
      "source": [
        "import numpy as np\n",
        "print(np.__version__)"
      ],
      "metadata": {
        "colab": {
          "base_uri": "https://localhost:8080/"
        },
        "id": "qETfqUm8H9OJ",
        "outputId": "0fe14a8a-27f1-45a2-bf4d-0e89535ff598"
      },
      "execution_count": null,
      "outputs": [
        {
          "output_type": "stream",
          "name": "stdout",
          "text": [
            "1.22.4\n"
          ]
        }
      ]
    },
    {
      "cell_type": "code",
      "source": [
        "import numpy as np\n",
        "array = np.array([1,2,3,4,5])\n",
        "print(array)"
      ],
      "metadata": {
        "colab": {
          "base_uri": "https://localhost:8080/"
        },
        "id": "MJhZm5igJK54",
        "outputId": "351388f0-2d26-41a2-9fc4-da58eb4cd8af"
      },
      "execution_count": null,
      "outputs": [
        {
          "output_type": "stream",
          "name": "stdout",
          "text": [
            "[1 2 3 4 5]\n"
          ]
        }
      ]
    },
    {
      "cell_type": "code",
      "source": [
        "import numpy as np\n",
        "from numpy.random import random\n",
        "\n",
        "random()\n",
        "#generates random number between 0-1"
      ],
      "metadata": {
        "colab": {
          "base_uri": "https://localhost:8080/"
        },
        "id": "wg_uaXoCJkm6",
        "outputId": "6092145f-e483-495e-f08b-0018ce7878de"
      },
      "execution_count": null,
      "outputs": [
        {
          "output_type": "execute_result",
          "data": {
            "text/plain": [
              "0.3122772861796722"
            ]
          },
          "metadata": {},
          "execution_count": 27
        }
      ]
    },
    {
      "cell_type": "code",
      "source": [
        "x = random()\n",
        "answer = \"\"\n",
        "if(x > 0.8):\n",
        "  answer = \"Greater than 0.8\"\n",
        "print(x)\n",
        "print(answer)"
      ],
      "metadata": {
        "colab": {
          "base_uri": "https://localhost:8080/"
        },
        "id": "xFW_DS2ULD3j",
        "outputId": "ec1fddb7-08a6-4def-e04f-c6f06ace8174"
      },
      "execution_count": null,
      "outputs": [
        {
          "output_type": "stream",
          "name": "stdout",
          "text": [
            "0.22445942445221834\n",
            "\n"
          ]
        }
      ]
    },
    {
      "cell_type": "code",
      "source": [
        "amswer = None\n",
        "x=random()\n",
        "if x<0.5:\n",
        "  answer=\"Less than 0.5\"\n",
        "else:\n",
        "  answer=\"Greater than 0.5\"\n",
        "print(answer)"
      ],
      "metadata": {
        "colab": {
          "base_uri": "https://localhost:8080/"
        },
        "id": "b3tWTtDhNQ11",
        "outputId": "cb38d05a-27c6-418b-920e-3f763f12b133"
      },
      "execution_count": null,
      "outputs": [
        {
          "output_type": "stream",
          "name": "stdout",
          "text": [
            "Less than 0.5\n"
          ]
        }
      ]
    },
    {
      "cell_type": "code",
      "source": [
        "n = int(input(\"Enter n: \"))\n",
        "while(n>0):\n",
        "  print(n)\n",
        "  n-=1\n"
      ],
      "metadata": {
        "colab": {
          "base_uri": "https://localhost:8080/"
        },
        "id": "HIoUG08dQgy8",
        "outputId": "f6225411-54f5-4a75-fa32-66705056362d"
      },
      "execution_count": null,
      "outputs": [
        {
          "output_type": "stream",
          "name": "stdout",
          "text": [
            "Enter n: 5\n",
            "5\n",
            "4\n",
            "3\n",
            "2\n",
            "1\n"
          ]
        }
      ]
    },
    {
      "cell_type": "code",
      "source": [
        "n=int(input(\"Enter n: \"))\n",
        "i=0\n",
        "while(i!=n):\n",
        "  print(i)\n",
        "  i+=1"
      ],
      "metadata": {
        "colab": {
          "base_uri": "https://localhost:8080/"
        },
        "id": "XV3T2KKsREhC",
        "outputId": "639a7590-b990-4f4e-b2be-0f486d90faa9"
      },
      "execution_count": null,
      "outputs": [
        {
          "output_type": "stream",
          "name": "stdout",
          "text": [
            "Enter n: 5\n",
            "0\n",
            "1\n",
            "2\n",
            "3\n",
            "4\n"
          ]
        }
      ]
    },
    {
      "cell_type": "code",
      "source": [
        "n=int(input(\"Enter n: \"))\n",
        "ans = 1\n",
        "while(n!=1):\n",
        "  ans*=n\n",
        "  n-=1\n",
        "print(ans)"
      ],
      "metadata": {
        "colab": {
          "base_uri": "https://localhost:8080/"
        },
        "id": "LdsDzHaTSEDP",
        "outputId": "abb8be95-95d5-4fb0-c1d7-8c4be36a5db0"
      },
      "execution_count": null,
      "outputs": [
        {
          "output_type": "stream",
          "name": "stdout",
          "text": [
            "Enter n: 5\n",
            "120\n"
          ]
        }
      ]
    },
    {
      "cell_type": "markdown",
      "source": [
        "AND:-            OR:-                 NOT:-\n",
        "x y O/p          x y O/p              x O/p\n",
        "0 0 0            0 0 0                0 1\n",
        "0 1 0            0 1 1                1 0\n",
        "1 0 0            1 0 1\n",
        "1 1 1            1 1 1"
      ],
      "metadata": {
        "id": "MUxtAeLcU62K"
      }
    },
    {
      "cell_type": "markdown",
      "source": [
        "Bitwise operator\n",
        "P  Q  P&Q  P|Q  P^Q  ~P\n",
        "0  0   0    0    0   1\n",
        "0  1   0    1    1\n",
        "1  0   0    1    1   0\n",
        "1  1   1    1    0"
      ],
      "metadata": {
        "id": "gq6tDTVLWIcK"
      }
    },
    {
      "cell_type": "code",
      "source": [
        "n=int(input(\"Enter n: \"))\n",
        "ans=0\n",
        "while(n!=0):\n",
        "  digit=n%10\n",
        "  ans=ans*10+digit\n",
        "  n=int(n/10)\n",
        "print(ans)"
      ],
      "metadata": {
        "colab": {
          "base_uri": "https://localhost:8080/"
        },
        "id": "83bw40eyW4Iy",
        "outputId": "215fe9d4-aadc-4664-cf5d-71661a218346"
      },
      "execution_count": null,
      "outputs": [
        {
          "output_type": "stream",
          "name": "stdout",
          "text": [
            "Enter n: 123\n",
            "321\n"
          ]
        }
      ]
    },
    {
      "cell_type": "code",
      "source": [
        "n=np.array([1,1,0,1,0])\n",
        "i=len(n)-1\n",
        "ans=0\n",
        "while(i>=0):\n",
        "  if n[i]==1:\n",
        "    ans+=2**(len(n)-i-1)\n",
        "  i-=1\n",
        "print(ans)"
      ],
      "metadata": {
        "colab": {
          "base_uri": "https://localhost:8080/"
        },
        "id": "fMaJULQWZ1Tz",
        "outputId": "910def60-c89d-4ba9-bc2d-ec62e679d08a"
      },
      "execution_count": null,
      "outputs": [
        {
          "output_type": "stream",
          "name": "stdout",
          "text": [
            "26\n"
          ]
        }
      ]
    }
  ]
}